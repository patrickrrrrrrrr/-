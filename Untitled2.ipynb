{
  "nbformat": 4,
  "nbformat_minor": 0,
  "metadata": {
    "colab": {
      "name": "Untitled2.ipynb",
      "provenance": [],
      "include_colab_link": true
    },
    "kernelspec": {
      "name": "python3",
      "display_name": "Python 3"
    }
  },
  "cells": [
    {
      "cell_type": "markdown",
      "metadata": {
        "id": "view-in-github",
        "colab_type": "text"
      },
      "source": [
        "<a href=\"https://colab.research.google.com/github/patrickrrrrrrrr/-/blob/master/Untitled2.ipynb\" target=\"_parent\"><img src=\"https://colab.research.google.com/assets/colab-badge.svg\" alt=\"Open In Colab\"/></a>"
      ]
    },
    {
      "cell_type": "code",
      "metadata": {
        "id": "l5z4DxpBkzbt",
        "colab_type": "code",
        "colab": {
          "base_uri": "https://localhost:8080/",
          "height": 51
        },
        "outputId": "be924b52-4c9a-4e81-b8d9-e7544650676f"
      },
      "source": [
        "score=int(input('請輸入一個成績'))\n",
        "if score>=60:\n",
        "  print(\"很好，繼續保持\")"
      ],
      "execution_count": 2,
      "outputs": [
        {
          "output_type": "stream",
          "text": [
            "請輸入一個成績60\n",
            "很好，繼續保持\n"
          ],
          "name": "stdout"
        }
      ]
    },
    {
      "cell_type": "code",
      "metadata": {
        "id": "nmKlRQJ7lTcU",
        "colab_type": "code",
        "colab": {
          "base_uri": "https://localhost:8080/",
          "height": 51
        },
        "outputId": "c6e3a699-ced0-41b9-c5a5-fe151c031ca3"
      },
      "source": [
        "cost=int(input('請輸入購買金額'))\n",
        "if cost>=2000:\n",
        "  print(\"cost*0.9\")\n",
        "else:\n",
        "  print(cost)"
      ],
      "execution_count": 4,
      "outputs": [
        {
          "output_type": "stream",
          "text": [
            "請輸入購買金額2000\n",
            "cost*0.9\n"
          ],
          "name": "stdout"
        }
      ]
    },
    {
      "cell_type": "code",
      "metadata": {
        "id": "rTtTa4wPmRTd",
        "colab_type": "code",
        "colab": {
          "base_uri": "https://localhost:8080/",
          "height": 51
        },
        "outputId": "da11889d-b978-445b-9369-211f253e286a"
      },
      "source": [
        "score=int(input('請輸入一個成績'))\n",
        "if score>=80:\n",
        "  print(\"great\")\n",
        "elif score>=60:\n",
        "  print(\"good\")\n",
        "else :\n",
        "  print(\"bad\")"
      ],
      "execution_count": 7,
      "outputs": [
        {
          "output_type": "stream",
          "text": [
            "請輸入一個成績11\n",
            "bad\n"
          ],
          "name": "stdout"
        }
      ]
    },
    {
      "cell_type": "code",
      "metadata": {
        "id": "EURBY3YSnCv9",
        "colab_type": "code",
        "colab": {
          "base_uri": "https://localhost:8080/",
          "height": 51
        },
        "outputId": "50fb5ece-3e2f-4fde-bef2-1a071b0e472a"
      },
      "source": [
        "w=float(input('請輸入物品重量'))\n",
        "if w<=5:\n",
        "  print(\"郵資為50元\")\n",
        "elif w<=10:\n",
        "  print(\"郵資為70元\")\n",
        "elif w<=15:\n",
        "  print(\"郵資為90元\")\n",
        "elif w<=20:\n",
        "  print(\"郵資為110元\")\n",
        "else :\n",
        "  print(\"超過20無法寄送\")"
      ],
      "execution_count": 8,
      "outputs": [
        {
          "output_type": "stream",
          "text": [
            "請輸入物品重量90\n",
            "超過20無法寄送\n"
          ],
          "name": "stdout"
        }
      ]
    },
    {
      "cell_type": "code",
      "metadata": {
        "id": "i8ZTeAbkofP2",
        "colab_type": "code",
        "colab": {
          "base_uri": "https://localhost:8080/",
          "height": 85
        },
        "outputId": "a758a5da-5f5d-4e35-da22-97768c009b96"
      },
      "source": [
        "w=float(input('請輸入體重'))\n",
        "h=float(input('請輸入身高'))\n",
        "b=w/(h*h)\n",
        "print('BMI為',b)\n",
        "if b<=18:\n",
        "  print(\"slenderman\")\n",
        "elif b<=24:\n",
        "  print(\"normal\")\n",
        "elif b<=27:\n",
        "  print(\"fat\")\n",
        "else :\n",
        "  print('meat ball')"
      ],
      "execution_count": 14,
      "outputs": [
        {
          "output_type": "stream",
          "text": [
            "請輸入體重90\n",
            "請輸入身高1.9\n",
            "BMI為 24.930747922437675\n",
            "fat\n"
          ],
          "name": "stdout"
        }
      ]
    },
    {
      "cell_type": "code",
      "metadata": {
        "id": "dMHumV41qE9t",
        "colab_type": "code",
        "colab": {
          "base_uri": "https://localhost:8080/",
          "height": 68
        },
        "outputId": "8956ed7c-711b-4548-fda7-649769bec2ce"
      },
      "source": [
        "x=float(input('請輸入x'))\n",
        "y=float(input('請輸入y'))\n",
        "if x>0:\n",
        "  if y>0:\n",
        "    print('一')\n",
        "  else:\n",
        "    print('四')\n",
        "else:\n",
        "  if y>0:\n",
        "    print('二')\n",
        "  else:\n",
        "    print('三')"
      ],
      "execution_count": 17,
      "outputs": [
        {
          "output_type": "stream",
          "text": [
            "請輸入x8\n",
            "請輸入y5\n",
            "一\n"
          ],
          "name": "stdout"
        }
      ]
    },
    {
      "cell_type": "code",
      "metadata": {
        "id": "b66SBw3d5kr9",
        "colab_type": "code",
        "colab": {}
      },
      "source": [
        ""
      ],
      "execution_count": 0,
      "outputs": []
    }
  ]
}